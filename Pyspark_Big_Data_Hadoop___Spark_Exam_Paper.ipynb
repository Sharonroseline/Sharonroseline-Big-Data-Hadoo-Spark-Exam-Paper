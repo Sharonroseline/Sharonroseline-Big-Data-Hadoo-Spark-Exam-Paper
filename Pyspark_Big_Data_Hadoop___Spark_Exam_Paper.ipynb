{
  "nbformat": 4,
  "nbformat_minor": 0,
  "metadata": {
    "colab": {
      "name": "Pyspark-Big Data Hadoop _ Spark Exam Paper",
      "provenance": [],
      "collapsed_sections": []
    },
    "kernelspec": {
      "name": "python3",
      "display_name": "Python 3"
    },
    "language_info": {
      "name": "python"
    }
  },
  "cells": [
    {
      "cell_type": "markdown",
      "source": [
        "Import the necessary modules and packages"
      ],
      "metadata": {
        "id": "XsU-m4piQQ6y"
      }
    },
    {
      "cell_type": "code",
      "source": [
        "pip install pyspark"
      ],
      "metadata": {
        "colab": {
          "base_uri": "https://localhost:8080/"
        },
        "id": "g_QqiZ3LC4Jp",
        "outputId": "ab5a5dc5-d584-4f3d-aa7b-26bb2f73d3fc"
      },
      "execution_count": 35,
      "outputs": [
        {
          "output_type": "stream",
          "name": "stdout",
          "text": [
            "Looking in indexes: https://pypi.org/simple, https://us-python.pkg.dev/colab-wheels/public/simple/\n",
            "Requirement already satisfied: pyspark in /usr/local/lib/python3.7/dist-packages (3.2.1)\n",
            "Requirement already satisfied: py4j==0.10.9.3 in /usr/local/lib/python3.7/dist-packages (from pyspark) (0.10.9.3)\n"
          ]
        }
      ]
    },
    {
      "cell_type": "code",
      "source": [
        "import numpy as np\n",
        "import pandas as pd\n",
        "import pyspark"
      ],
      "metadata": {
        "id": "RBru-g4VK25t"
      },
      "execution_count": 17,
      "outputs": []
    },
    {
      "cell_type": "code",
      "source": [
        "from pyspark import SparkConf, SparkContextfrom pyspark.sql import SparkSession\n",
        "from pyspark.sql.functions import udf \n",
        "from pyspark.sql import functions as F \n",
        "from pyspark.sql.types import StructField, StringType, IntegerType, StructType"
      ],
      "metadata": {
        "id": "lKPgDpP7Kr7A"
      },
      "execution_count": 18,
      "outputs": []
    },
    {
      "cell_type": "code",
      "source": [
        "print([(x.__name__,x.__version__) for x in [np, pd, pyspark]])\n",
        "\n",
        "spark = pyspark.sql.SparkSession.builder.appName('BOSTON').getOrCreate()\n",
        "sc = spark.sparkContext\n",
        "sqlContext = SQLContext(sc)\n",
        "sc.setLogLevel(\"INFO\")"
      ],
      "metadata": {
        "colab": {
          "base_uri": "https://localhost:8080/"
        },
        "id": "Hdco5fvRC2OZ",
        "outputId": "9144b03b-0a84-467d-bfc9-0e3225b78db2"
      },
      "execution_count": 20,
      "outputs": [
        {
          "output_type": "stream",
          "name": "stdout",
          "text": [
            "[('numpy', '1.21.6'), ('pandas', '1.3.5'), ('pyspark', '3.2.1')]\n"
          ]
        },
        {
          "output_type": "stream",
          "name": "stderr",
          "text": [
            "/usr/local/lib/python3.7/dist-packages/pyspark/sql/context.py:79: FutureWarning: Deprecated in 3.0.0. Use SparkSession.builder.getOrCreate() instead.\n",
            "  FutureWarning\n"
          ]
        }
      ]
    },
    {
      "cell_type": "code",
      "source": [
        "from pyspark.ml.feature import (VectorAssembler, VectorIndexer,\n",
        "                               OneHotEncoder, StringIndexer)\n"
      ],
      "metadata": {
        "id": "p7F1BVf7LRsw"
      },
      "execution_count": 21,
      "outputs": []
    },
    {
      "cell_type": "markdown",
      "source": [
        "Q.1 Read the boston.csv file in a Hive table\n"
      ],
      "metadata": {
        "id": "rabehd3aQkmu"
      }
    },
    {
      "cell_type": "markdown",
      "source": [
        "Q2. Read the data from Hive table as spark dataframe"
      ],
      "metadata": {
        "id": "WCRSINE9Q2fQ"
      }
    },
    {
      "cell_type": "code",
      "source": [
        "spark_dataframe=spark.read.csv(\"boston.csv\",header=True,inferSchema=True)\n",
        "spark_dataframe.show(5)"
      ],
      "metadata": {
        "colab": {
          "base_uri": "https://localhost:8080/"
        },
        "id": "5phUQnKvDUIC",
        "outputId": "4d9b7365-9cc2-47fb-fbc3-7ffca10f874b"
      },
      "execution_count": 36,
      "outputs": [
        {
          "output_type": "stream",
          "name": "stdout",
          "text": [
            "+-----------+----+-----------+----+-----------+-----------+-----------+-----------+---+---+-----------+-----------+-----------+-----------+\n",
            "|       CRIM|  ZN|      INDUS|CHAS|        NOX|         RM|        AGE|        DIS|RAD|TAX|         PT|          B|      LSTAT|         MV|\n",
            "+-----------+----+-----------+----+-----------+-----------+-----------+-----------+---+---+-----------+-----------+-----------+-----------+\n",
            "|    0.00632|18.0|2.309999943|   0|0.537999988|6.574999809|65.19999695|4.090000153|  1|296|15.30000019|396.8999939|4.980000019|       24.0|\n",
            "|0.027310001| 0.0|7.070000172|   0|0.469000012|6.421000004|78.90000153|4.967100143|  2|242|17.79999924|396.8999939|9.140000343|21.60000038|\n",
            "|    0.02729| 0.0|7.070000172|   0|0.469000012|7.184999943|61.09999847|4.967100143|  2|242|17.79999924|392.8299866| 4.03000021|34.70000076|\n",
            "|0.032370001| 0.0|2.180000067|   0|0.458000004|6.998000145|45.79999924|6.062200069|  3|222|18.70000076|394.6300049|2.940000057|33.40000153|\n",
            "|0.069049999| 0.0|2.180000067|   0|0.458000004|7.146999836|54.20000076|6.062200069|  3|222|18.70000076|396.8999939|5.329999924|36.20000076|\n",
            "+-----------+----+-----------+----+-----------+-----------+-----------+-----------+---+---+-----------+-----------+-----------+-----------+\n",
            "only showing top 5 rows\n",
            "\n"
          ]
        }
      ]
    },
    {
      "cell_type": "code",
      "source": [
        "spark_dataframe.write.saveAsTable(\"hive_table\")\n",
        "spark_dataframe.show(3)\n"
      ],
      "metadata": {
        "colab": {
          "base_uri": "https://localhost:8080/"
        },
        "id": "JwMwwRGpD1fZ",
        "outputId": "1130d0c3-ed43-4421-fcde-a147d50982ac"
      },
      "execution_count": 25,
      "outputs": [
        {
          "output_type": "stream",
          "name": "stdout",
          "text": [
            "+-----------+----+-----------+----+-----------+-----------+-----------+-----------+---+---+-----------+-----------+-----------+-----------+\n",
            "|       CRIM|  ZN|      INDUS|CHAS|        NOX|         RM|        AGE|        DIS|RAD|TAX|         PT|          B|      LSTAT|         MV|\n",
            "+-----------+----+-----------+----+-----------+-----------+-----------+-----------+---+---+-----------+-----------+-----------+-----------+\n",
            "|    0.00632|18.0|2.309999943|   0|0.537999988|6.574999809|65.19999695|4.090000153|  1|296|15.30000019|396.8999939|4.980000019|       24.0|\n",
            "|0.027310001| 0.0|7.070000172|   0|0.469000012|6.421000004|78.90000153|4.967100143|  2|242|17.79999924|396.8999939|9.140000343|21.60000038|\n",
            "|    0.02729| 0.0|7.070000172|   0|0.469000012|7.184999943|61.09999847|4.967100143|  2|242|17.79999924|392.8299866| 4.03000021|34.70000076|\n",
            "+-----------+----+-----------+----+-----------+-----------+-----------+-----------+---+---+-----------+-----------+-----------+-----------+\n",
            "only showing top 3 rows\n",
            "\n"
          ]
        }
      ]
    },
    {
      "cell_type": "code",
      "source": [
        "spark_dataframe.printSchema()"
      ],
      "metadata": {
        "colab": {
          "base_uri": "https://localhost:8080/"
        },
        "id": "_hMQT-MSF_BB",
        "outputId": "c4a4a4d3-70d2-4fca-de9a-3cd105abc37a"
      },
      "execution_count": 38,
      "outputs": [
        {
          "output_type": "stream",
          "name": "stdout",
          "text": [
            "root\n",
            " |-- CRIM: double (nullable = true)\n",
            " |-- ZN: double (nullable = true)\n",
            " |-- INDUS: double (nullable = true)\n",
            " |-- CHAS: integer (nullable = true)\n",
            " |-- NOX: double (nullable = true)\n",
            " |-- RM: double (nullable = true)\n",
            " |-- AGE: double (nullable = true)\n",
            " |-- DIS: double (nullable = true)\n",
            " |-- RAD: integer (nullable = true)\n",
            " |-- TAX: integer (nullable = true)\n",
            " |-- PT: double (nullable = true)\n",
            " |-- B: double (nullable = true)\n",
            " |-- LSTAT: double (nullable = true)\n",
            " |-- MV: double (nullable = true)\n",
            "\n"
          ]
        }
      ]
    },
    {
      "cell_type": "markdown",
      "source": [
        "Q3. Get the correlation between dependent and independent \n",
        "variables"
      ],
      "metadata": {
        "id": "dKaH5tkXRZWV"
      }
    },
    {
      "cell_type": "code",
      "source": [
        "import six\n",
        "for i in spark_dataframe.columns:\n",
        "    if not( isinstance(spark_dataframe.select(i).take(1)[0][0], six.string_types)):\n",
        "        print( \"Correlation to MV for \", i, spark_dataframe.stat.corr('MV',i))"
      ],
      "metadata": {
        "colab": {
          "base_uri": "https://localhost:8080/"
        },
        "id": "ptT0q2ORF_ee",
        "outputId": "4e96c4f8-d514-4e0d-801d-e8f683ef7a78"
      },
      "execution_count": 27,
      "outputs": [
        {
          "output_type": "stream",
          "name": "stdout",
          "text": [
            "Correlation to MV for  CRIM -0.3883046116575088\n",
            "Correlation to MV for  ZN 0.36044534463752903\n",
            "Correlation to MV for  INDUS -0.48372517128143383\n",
            "Correlation to MV for  CHAS 0.17526017775291847\n",
            "Correlation to MV for  NOX -0.4273207763683772\n",
            "Correlation to MV for  RM 0.695359937127267\n",
            "Correlation to MV for  AGE -0.37695456714288667\n",
            "Correlation to MV for  DIS 0.24992873873512172\n",
            "Correlation to MV for  RAD -0.3816262315669168\n",
            "Correlation to MV for  TAX -0.46853593528654536\n",
            "Correlation to MV for  PT -0.5077867038116085\n",
            "Correlation to MV for  B 0.3334608226834164\n",
            "Correlation to MV for  LSTAT -0.7376627294671615\n",
            "Correlation to MV for  MV 1.0\n"
          ]
        }
      ]
    },
    {
      "cell_type": "code",
      "source": [
        "from pyspark.ml.feature import VectorAssembler\n",
        "vectorAssembler = VectorAssembler(inputCols = ['CRIM', 'ZN', 'INDUS', 'CHAS', 'NOX', 'RM', 'AGE', 'DIS', 'RAD', 'TAX', 'PT', 'B', 'LSTAT'], outputCol = 'features')\n",
        "spark_dataframe_1 = vectorAssembler.transform(spark_dataframe)\n",
        "spark_dataframe_1 = spark_dataframe_1.select(['features', 'MV'])\n",
        "spark_dataframe.show(5)"
      ],
      "metadata": {
        "colab": {
          "base_uri": "https://localhost:8080/"
        },
        "id": "_IJCPQxIIgPA",
        "outputId": "b9f979be-c1be-4292-c6a1-4ea59aba9c2c"
      },
      "execution_count": 28,
      "outputs": [
        {
          "output_type": "stream",
          "name": "stdout",
          "text": [
            "+-----------+----+-----------+----+-----------+-----------+-----------+-----------+---+---+-----------+-----------+-----------+-----------+\n",
            "|       CRIM|  ZN|      INDUS|CHAS|        NOX|         RM|        AGE|        DIS|RAD|TAX|         PT|          B|      LSTAT|         MV|\n",
            "+-----------+----+-----------+----+-----------+-----------+-----------+-----------+---+---+-----------+-----------+-----------+-----------+\n",
            "|    0.00632|18.0|2.309999943|   0|0.537999988|6.574999809|65.19999695|4.090000153|  1|296|15.30000019|396.8999939|4.980000019|       24.0|\n",
            "|0.027310001| 0.0|7.070000172|   0|0.469000012|6.421000004|78.90000153|4.967100143|  2|242|17.79999924|396.8999939|9.140000343|21.60000038|\n",
            "|    0.02729| 0.0|7.070000172|   0|0.469000012|7.184999943|61.09999847|4.967100143|  2|242|17.79999924|392.8299866| 4.03000021|34.70000076|\n",
            "|0.032370001| 0.0|2.180000067|   0|0.458000004|6.998000145|45.79999924|6.062200069|  3|222|18.70000076|394.6300049|2.940000057|33.40000153|\n",
            "|0.069049999| 0.0|2.180000067|   0|0.458000004|7.146999836|54.20000076|6.062200069|  3|222|18.70000076|396.8999939|5.329999924|36.20000076|\n",
            "+-----------+----+-----------+----+-----------+-----------+-----------+-----------+---+---+-----------+-----------+-----------+-----------+\n",
            "only showing top 5 rows\n",
            "\n"
          ]
        }
      ]
    },
    {
      "cell_type": "code",
      "source": [
        "split = spark_dataframe_1.randomSplit([0.7, 0.3])\n",
        "train_df = split[0]\n",
        "test_df = split[1]"
      ],
      "metadata": {
        "id": "e5CisrczJIB2"
      },
      "execution_count": 29,
      "outputs": []
    },
    {
      "cell_type": "markdown",
      "source": [
        "Q4. Build a linear regression model to predict house price"
      ],
      "metadata": {
        "id": "n2h7VAGiRgXd"
      }
    },
    {
      "cell_type": "code",
      "source": [
        "from pyspark.ml.regression import LinearRegression\n",
        "lr = LinearRegression(featuresCol = 'features', labelCol='MV', maxIter=10, regParam=0.3, elasticNetParam=0.8)\n",
        "lr_model = lr.fit(train_df)\n",
        "print(\"Coefficients: \" + str(lr_model.coefficients))\n",
        "print(\"Intercept: \" + str(lr_model.intercept))"
      ],
      "metadata": {
        "colab": {
          "base_uri": "https://localhost:8080/"
        },
        "id": "mSFWRsjlMyRz",
        "outputId": "3f5aad5a-ebbf-476b-da8b-41bed5dc7fd0"
      },
      "execution_count": 30,
      "outputs": [
        {
          "output_type": "stream",
          "name": "stdout",
          "text": [
            "Coefficients: [-0.04630100371686804,0.012026824303371802,0.0,1.3897431378388516,-6.452517740188054,5.040230083728225,0.0,-0.5867766709204222,0.0,0.0,-0.7773450138376635,0.01018078753927142,-0.48152147669777795]\n",
            "Intercept: 13.277345898901142\n"
          ]
        }
      ]
    },
    {
      "cell_type": "markdown",
      "source": [
        "Q5. Evaluate the Linear Regression model by getting the RMSE \n",
        "and R-squared values"
      ],
      "metadata": {
        "id": "Az9hJkz_RuE7"
      }
    },
    {
      "cell_type": "code",
      "source": [
        "Summary = lr_model.summary\n",
        "print(\"RMSE: %f\" %Summary.rootMeanSquaredError)\n",
        "print(\"r2: %f\" %Summary.r2)"
      ],
      "metadata": {
        "colab": {
          "base_uri": "https://localhost:8080/"
        },
        "id": "4NLqsyMgNOCh",
        "outputId": "a58a35f7-7432-4d33-aa68-676bab5ab28a"
      },
      "execution_count": 39,
      "outputs": [
        {
          "output_type": "stream",
          "name": "stdout",
          "text": [
            "RMSE: 4.805978\n",
            "r2: 0.732541\n"
          ]
        }
      ]
    },
    {
      "cell_type": "code",
      "source": [
        "lr_predictions = lr_model.transform(test_df)\n",
        "lr_predictions.select(\"prediction\",\"MV\",\"features\").show(5)\n",
        "from pyspark.ml.evaluation import RegressionEvaluator\n",
        "lr_evaluator = RegressionEvaluator(predictionCol=\"prediction\", \\\n",
        "                 labelCol=\"MV\",metricName=\"r2\")\n",
        "print(\"R Squared (R2) on test data = %g\" % lr_evaluator.evaluate(lr_predictions))"
      ],
      "metadata": {
        "colab": {
          "base_uri": "https://localhost:8080/"
        },
        "id": "-_2NRpvSNO8o",
        "outputId": "45070e20-c6fa-4d61-c7ab-60f8a142716c"
      },
      "execution_count": 40,
      "outputs": [
        {
          "output_type": "stream",
          "name": "stdout",
          "text": [
            "+------------------+-----------+--------------------+\n",
            "|        prediction|         MV|            features|\n",
            "+------------------+-----------+--------------------+\n",
            "|17.427297987365865|18.89999962|[0.0136,75.0,4.0,...|\n",
            "| 30.64644930941655|29.10000038|[0.01439,60.0,2.9...|\n",
            "|27.858713267841228|       24.5|[0.01501,80.0,2.0...|\n",
            "| 35.74468357956951|       44.0|[0.01538,90.0,3.7...|\n",
            "| 26.86465884310111|       33.0|[0.019509999,17.5...|\n",
            "+------------------+-----------+--------------------+\n",
            "only showing top 5 rows\n",
            "\n",
            "R Squared (R2) on test data = 0.661658\n"
          ]
        }
      ]
    },
    {
      "cell_type": "code",
      "source": [
        "test_result = lr_model.evaluate(test_df)\n",
        "print(\"RMSE on test data = %g\" % test_result.rootMeanSquaredError)"
      ],
      "metadata": {
        "colab": {
          "base_uri": "https://localhost:8080/"
        },
        "id": "To3PzVBgNmeu",
        "outputId": "a56f80cb-47c7-4c1f-b245-f193029b9c37"
      },
      "execution_count": 41,
      "outputs": [
        {
          "output_type": "stream",
          "name": "stdout",
          "text": [
            "RMSE on test data = 5.17322\n"
          ]
        }
      ]
    },
    {
      "cell_type": "code",
      "source": [
        "predictions = lr_model.transform(test_df)\n",
        "predictions.select(\"prediction\",\"MV\",\"features\").show()"
      ],
      "metadata": {
        "colab": {
          "base_uri": "https://localhost:8080/"
        },
        "id": "07SD0kRiOye2",
        "outputId": "f9d3252c-da73-4901-eb90-22c7beff041b"
      },
      "execution_count": 42,
      "outputs": [
        {
          "output_type": "stream",
          "name": "stdout",
          "text": [
            "+------------------+-----------+--------------------+\n",
            "|        prediction|         MV|            features|\n",
            "+------------------+-----------+--------------------+\n",
            "|17.427297987365865|18.89999962|[0.0136,75.0,4.0,...|\n",
            "| 30.64644930941655|29.10000038|[0.01439,60.0,2.9...|\n",
            "|27.858713267841228|       24.5|[0.01501,80.0,2.0...|\n",
            "| 35.74468357956951|       44.0|[0.01538,90.0,3.7...|\n",
            "| 26.86465884310111|       33.0|[0.019509999,17.5...|\n",
            "| 40.38651188051962|       50.0|[0.020090001,95.0...|\n",
            "|25.501496817133145|21.60000038|[0.027310001,0.0,...|\n",
            "| 30.10058598439426|33.40000153|[0.032370001,0.0,...|\n",
            "|20.083809354308126|       19.5|[0.03427,0.0,5.19...|\n",
            "|24.152689682105652|19.39999962|[0.03466,35.0,6.0...|\n",
            "|22.735308982292587|20.89999962|[0.03548,80.0,3.6...|\n",
            "|28.770097703835397|       23.5|[0.035840001,80.0...|\n",
            "|28.852777730680174|27.89999962|[0.036150001,80.0...|\n",
            "| 32.90178847494359|35.40000153|[0.037050001,20.0...|\n",
            "| 36.35182373251368|33.29999924|[0.040109999,80.0...|\n",
            "|22.426207305666594|20.60000038|[0.04527,0.0,11.9...|\n",
            "|29.391110539514628|28.20000076|[0.049320001,33.0...|\n",
            "|24.803047616173863|23.89999962|[0.050590001,0.0,...|\n",
            "|31.246639398401708|28.70000076|[0.05302,0.0,3.41...|\n",
            "| 32.42658967668142|       29.0|[0.055610001,70.0...|\n",
            "+------------------+-----------+--------------------+\n",
            "only showing top 20 rows\n",
            "\n"
          ]
        }
      ]
    },
    {
      "cell_type": "code",
      "source": [
        ""
      ],
      "metadata": {
        "id": "C2oPYtq5O7Og"
      },
      "execution_count": null,
      "outputs": []
    }
  ]
}